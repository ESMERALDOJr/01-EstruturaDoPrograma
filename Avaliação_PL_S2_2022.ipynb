{
  "nbformat": 4,
  "nbformat_minor": 0,
  "metadata": {
    "colab": {
      "provenance": [],
      "authorship_tag": "ABX9TyMcK9QPMBHcBUARCUqKJymw",
      "include_colab_link": true
    },
    "kernelspec": {
      "name": "python3",
      "display_name": "Python 3"
    },
    "language_info": {
      "name": "python"
    }
  },
  "cells": [
    {
      "cell_type": "markdown",
      "metadata": {
        "id": "view-in-github",
        "colab_type": "text"
      },
      "source": [
        "<a href=\"https://colab.research.google.com/github/ESMERALDOJr/01-EstruturaDoPrograma/blob/master/Avalia%C3%A7%C3%A3o_PL_S2_2022.ipynb\" target=\"_parent\"><img src=\"https://colab.research.google.com/assets/colab-badge.svg\" alt=\"Open In Colab\"/></a>"
      ]
    },
    {
      "cell_type": "code",
      "source": [
        "import ortools\n",
        "from ortools.linear_solver import pywraplp\n",
        "\n",
        "#Inicializa um solver\n",
        "solver = pywraplp.Solver.CreateSolver('SCIP')"
      ],
      "metadata": {
        "id": "6ZVLqt2j5rXB"
      },
      "execution_count": 49,
      "outputs": []
    },
    {
      "cell_type": "code",
      "source": [
        "x1 = solver.IntVar(0, solver.infinity(), 'x1')\n",
        "x2 = solver.IntVar(0, solver.infinity(), 'x2')\n",
        "\n",
        "print('Número de variáveis =', solver.NumVariables())"
      ],
      "metadata": {
        "colab": {
          "base_uri": "https://localhost:8080/"
        },
        "id": "Tz1MLzhV6Z-K",
        "outputId": "dc0feb5e-a7ea-467e-8b24-29fa38ffdd16"
      },
      "execution_count": 50,
      "outputs": [
        {
          "output_type": "stream",
          "name": "stdout",
          "text": [
            "Número de variáveis = 2\n"
          ]
        }
      ]
    },
    {
      "cell_type": "code",
      "source": [
        "# Restrições\n",
        "#1: \n",
        "solver.Add(x1 * 5 + x2 * 7 <= 35)\n",
        "\n",
        "#2: \n",
        "solver.Add(x1 * 6 + x2 * 5 <= 30)\n",
        "\n",
        "#3:\n",
        "solver.Add(x1 * 4 <= 3)\n",
        "\n",
        "#3: Restrição de não-negatividade\n",
        "solver.Add(x1 >= 0)\n",
        "solver.Add(x2 >= 0)\n",
        "\n",
        "print('Número de restrições =', solver.NumConstraints())"
      ],
      "metadata": {
        "colab": {
          "base_uri": "https://localhost:8080/"
        },
        "id": "ff8KrpjA6mTY",
        "outputId": "6ff95ac2-347a-4b31-ad31-53c16aa6b92c"
      },
      "execution_count": 51,
      "outputs": [
        {
          "output_type": "stream",
          "name": "stdout",
          "text": [
            "Número de restrições = 5\n"
          ]
        }
      ]
    },
    {
      "cell_type": "code",
      "source": [
        "# Função Objetivo\n",
        "solver.Maximize(x1 * 3 + x2 * 3)"
      ],
      "metadata": {
        "id": "fhQluXsy6voA"
      },
      "execution_count": 52,
      "outputs": []
    },
    {
      "cell_type": "code",
      "source": [
        "status = solver.Solve()"
      ],
      "metadata": {
        "id": "RPA9_gAn6xKB"
      },
      "execution_count": 53,
      "outputs": []
    },
    {
      "cell_type": "code",
      "source": [
        "if status == pywraplp.Solver.OPTIMAL:\n",
        "    print('Solução:')\n",
        "    print('Valor Objetivo =', solver.Objective().Value())\n",
        "    print('x1 =', x1.solution_value())\n",
        "    print('x2 =', x2.solution_value())\n",
        "else:\n",
        "    print('O problema não possui uma solução otimizada.')\n",
        "\n",
        "print('\\nTIME:')\n",
        "print('Resolvido em %f ms' % solver.wall_time())\n",
        "print('Resolvido em %d iterações' % solver.iterations())"
      ],
      "metadata": {
        "colab": {
          "base_uri": "https://localhost:8080/"
        },
        "id": "yGhN1g4r62qw",
        "outputId": "5b5341d0-097f-4105-da51-f573aa567fc3"
      },
      "execution_count": 54,
      "outputs": [
        {
          "output_type": "stream",
          "name": "stdout",
          "text": [
            "Solução:\n",
            "Valor Objetivo = 15.0\n",
            "x1 = 0.0\n",
            "x2 = 5.0\n",
            "\n",
            "TIME:\n",
            "Resolvido em 15392.000000 ms\n",
            "Resolvido em 0 iterações\n"
          ]
        }
      ]
    }
  ]
}